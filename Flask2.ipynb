{
 "cells": [
  {
   "cell_type": "code",
   "execution_count": null,
   "id": "4800bf74-49f7-4ed2-bb20-199ac8e5c90c",
   "metadata": {},
   "outputs": [],
   "source": [
    "Q1. Explain GET and POST methods."
   ]
  },
  {
   "cell_type": "code",
   "execution_count": null,
   "id": "011cb1e5-a2a8-422a-bb2c-8e36b445612c",
   "metadata": {},
   "outputs": [],
   "source": [
    "Ans: GET Method:\n",
    "\n",
    "The GET method is primarily used to request data from a specified resource, such as a web page or an API endpoint. \n",
    "It is a safe and idempotent method, meaning it should not change the server's state, and multiple identical GET requests should produce the \n",
    "same result.\n",
    "\n",
    "Data Transmission: GET requests transmit data through the URL's query parameters. Data is appended to the URL as key-value pairs, making it visible\n",
    "in the browser's address bar.\n",
    "Data Length Limit: GET requests have a limitation on the length of data that can be sent via the URL, which is imposed by the browser and server.\n",
    "This limitation can lead to issues when sending large amounts of data.\n",
    "\n",
    "Caching: GET requests are typically cached by browsers, so if you make the same request again, the browser may use a cached response rather than\n",
    "making a new request to the server.\n",
    "\n",
    "Examples: Browsing web pages, searching on search engines, fetching data from an API by including parameters in the URL.\n",
    "\n",
    "\n",
    "\n",
    "\n",
    "POST Method:\n",
    "\n",
    "The POST method is used to submit data to be processed to a specified resource, often resulting in the creation or modification of a resource on\n",
    "the server. It is not safe and not idempotent, meaning repeated POST requests can have different outcomes.\n",
    "\n",
    "Data Transmission: POST requests transmit data in the request body, which is typically in the form of JSON, XML, or form data. \n",
    "The data is not visible in the URL, making it suitable for sensitive or large data submissions.\n",
    "\n",
    "Data Length Limit: POST requests have a much higher limit on the amount of data that can be sent because it is transmitted in the request body.\n",
    "This makes it suitable for sending large files or complex data structures.\n",
    "\n",
    "Caching: POST requests are generally not cached by browsers, as they are expected to have side effects on the server, and repeating the request\n",
    "may lead to unintended consequences.\n",
    "\n",
    "Examples: Submitting a login form, uploading a file, adding a new record to a database via an API."
   ]
  },
  {
   "cell_type": "code",
   "execution_count": null,
   "id": "ea2d49dc-e29e-4e20-8577-e90402a4845e",
   "metadata": {},
   "outputs": [],
   "source": [
    "Q2. Why is request used in Flask?"
   ]
  },
  {
   "cell_type": "code",
   "execution_count": null,
   "id": "0b2d9291-e59c-4d93-b3f1-40133bf9818d",
   "metadata": {},
   "outputs": [],
   "source": [
    "Ans:  In Flask, the request object is used to access and interact with incoming HTTP requests made to a Flask application. It is an integral\n",
    "      part of Flask's functionality and is essential for handling client requests and extracting data from those requests. The request object\n",
    "      provides a way to access various aspects of the incoming request, including data, headers, cookies, form parameters, and more. "
   ]
  },
  {
   "cell_type": "code",
   "execution_count": null,
   "id": "0d86a841-98e2-43d0-a17f-4e2f0e39387d",
   "metadata": {},
   "outputs": [],
   "source": [
    "Q3. Why is redirect() used in Flask?"
   ]
  },
  {
   "cell_type": "code",
   "execution_count": null,
   "id": "3a2f37fa-46fe-4494-bceb-0d96e454c7f2",
   "metadata": {},
   "outputs": [],
   "source": [
    "Ans: In Flask, the redirect() function is used to perform HTTP redirection, which is the process of instructing the client's web browser to navigate \n",
    "to a different URL. Redirects are a fundamental part of web development and are used for various purposes, including:\n",
    "\n",
    "Changing URLs: When you want to change the URL that a user sees in their browser's address bar, you can use redirect() to send the client to a new URL.\n",
    "               This is often used for creating clean and user-friendly URLs or for handling URL aliases.\n",
    "\n",
    "Handling Form Submissions: After processing a form submission (e.g., a login form or a search form), it's a good practice to redirect to a different\n",
    "                           page to prevent users from accidentally resubmitting the form data if they refresh the page. This is known as the \n",
    "                           \"Post/Redirect/Get\" (PRG) pattern.\n",
    "\n",
    "Authentication and Authorization: You can use redirects to enforce authentication and authorization rules. For example, if a user tries to \n",
    "                                  access a protected resource without being authenticated, you can redirect them to the login page.\n",
    "\n",
    "Error Handling: When encountering errors or exceptions in your application, you can redirect users to an error page or a more user-friendly error\n",
    "                 message, providing a better user experience.\n"
   ]
  },
  {
   "cell_type": "code",
   "execution_count": null,
   "id": "1ba29379-6603-4eaf-9907-13522c9d3ba6",
   "metadata": {},
   "outputs": [],
   "source": [
    "Q4. What are templates in Flask? Why is the render_template() function used?"
   ]
  },
  {
   "cell_type": "code",
   "execution_count": null,
   "id": "57d9366f-82ad-4bb4-acdf-4dae93f050eb",
   "metadata": {},
   "outputs": [],
   "source": [
    "Ans: Templates in Flask are used to generate dynamic HTML content for web applications. They allow you to separate the presentation layer (HTML) \n",
    "from the application logic  and provide a way to render HTML pages with dynamic data. Flask uses the Jinja2 templating engine as its default \n",
    "template engine.Ans: \n",
    "    \n",
    "why templates are important in Flask:\n",
    "    Separation of Concerns: Templates help maintain a clear separation between the application logic and the presentation (HTML). \n",
    "    This separation makes it easier to manage and update your web application's user interface.\n",
    "\n",
    "Dynamic Content: Templates allow you to embed dynamic content into HTML pages. You can pass variables from your Python code to a template, \n",
    "                  and these variables can be used to generate dynamic HTML content. This is crucial for creating dynamic web applications that\n",
    "                  display data from databases, user inputs, or external APIs.\n",
    "\n",
    "Code Reusability: Templates promote code reusability. You can create templates for common elements like headers, footers, and navigation bars \n",
    "                   and include them in multiple pages, reducing code duplication.\n",
    "\n",
    "Maintainability: Templates make it easier to maintain and update the user interface of your application because changes to the HTML structure\n",
    "                and styling can be made in one place (the template) without affecting the Python code."
   ]
  },
  {
   "cell_type": "code",
   "execution_count": null,
   "id": "169813a4-8847-45db-ba94-6e1cb8aa14cb",
   "metadata": {},
   "outputs": [],
   "source": [
    "Q5. Create a simple API. Use Postman to test it. Attach the screenshot of the output in the Jupyter Notebook."
   ]
  },
  {
   "cell_type": "code",
   "execution_count": null,
   "id": "cbdac203-0f40-46ca-a238-55c8c751c735",
   "metadata": {},
   "outputs": [],
   "source": [
    "Ans: from flask import Flask , render_template , request , jsonify\n",
    "\n",
    "app = Flask(__name__)\n",
    "\n",
    "\n",
    "@app.route('/',methods = ['GET', 'POST'])\n",
    "def home_page():\n",
    "    return render_template('index.html')\n",
    "\n",
    "\n",
    "@app.route('/math', methods = ['POST'])\n",
    "def math_operation():\n",
    "    if(request.method == 'POST'):\n",
    "        ops = request.form['operation']\n",
    "        num1 = int(request.form['num1'])\n",
    "        num2 = int(request.form['num2'])\n",
    "        if(ops == 'add'):\n",
    "            r = num1 + num2\n",
    "            result = 'The sum of   ' + str(num1) +     '   and    ' +str(num2) +       \"     is    \" + str(r)\n",
    "        if(ops == 'subtract'):\n",
    "            r = num1 - num2\n",
    "            result = 'The subtract of   ' + str(num1) +     '   and    ' +str(num2) +       \"     is    \" + str(r)\n",
    "        if(ops == 'multiply'):\n",
    "            r = num1 * num2\n",
    "            result = 'The multiply of   ' + str(num1) +     '   and    ' +str(num2) +       \"     is    \" + str(r)\n",
    "        if(ops == 'divide'):\n",
    "            r = num1 / num2\n",
    "            result = 'The divide of   ' + str(num1) +     '   and    ' +str(num2) +       \"     is    \" + str(r)\n",
    "\n",
    "        return render_template('results.html', result = result)\n",
    "\n",
    "\n",
    "\n",
    "\n",
    "        \n",
    "@app.route('/postman_data', methods = ['POST'])\n",
    "def math_operation1():\n",
    "    if(request.method == 'POST'):\n",
    "        ops = request.json['operation']\n",
    "        num1 = int(request.json['num1'])\n",
    "        num2 = int(request.json['num2'])\n",
    "        if(ops == 'add'):\n",
    "            r = num1 + num2\n",
    "            result = 'The sum of   ' + str(num1) +     '   and    ' +str(num2) +       \"     is    \" + str(r)\n",
    "        if(ops == 'subtract'):\n",
    "            r = num1 - num2\n",
    "            result = 'The subtract of   ' + str(num1) +     '   and    ' +str(num2) +       \"     is    \" + str(r)\n",
    "        if(ops == 'multiply'):\n",
    "            r = num1 * num2\n",
    "            result = 'The multiply of   ' + str(num1) +     '   and    ' +str(num2) +       \"     is    \" + str(r)\n",
    "        if(ops == 'divide'):\n",
    "            r = num1 / num2\n",
    "            result = 'The divide of   ' + str(num1) +     '   and    ' +str(num2) +       \"     is    \" + str(r)\n",
    "\n",
    "        return jsonify(result)\n",
    "\n",
    "\n",
    "\n",
    "\n",
    "\n",
    "if __name__==\"__main__\":\n",
    "    app.run(host=\"0.0.0.0\")\n",
    " "
   ]
  }
 ],
 "metadata": {
  "kernelspec": {
   "display_name": "Python 3 (ipykernel)",
   "language": "python",
   "name": "python3"
  },
  "language_info": {
   "codemirror_mode": {
    "name": "ipython",
    "version": 3
   },
   "file_extension": ".py",
   "mimetype": "text/x-python",
   "name": "python",
   "nbconvert_exporter": "python",
   "pygments_lexer": "ipython3",
   "version": "3.10.8"
  }
 },
 "nbformat": 4,
 "nbformat_minor": 5
}
